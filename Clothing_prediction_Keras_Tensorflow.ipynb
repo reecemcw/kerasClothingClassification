{
  "nbformat": 4,
  "nbformat_minor": 0,
  "metadata": {
    "colab": {
      "name": "Clothing prediction - Keras/Tensorflow.ipynb",
      "version": "0.3.2",
      "provenance": [],
      "include_colab_link": true
    },
    "kernelspec": {
      "name": "python3",
      "display_name": "Python 3"
    }
  },
  "cells": [
    {
      "cell_type": "markdown",
      "metadata": {
        "id": "view-in-github",
        "colab_type": "text"
      },
      "source": [
        "[View in Colaboratory](https://colab.research.google.com/github/reecemcw/kerasClothingClassification/blob/master/Clothing_prediction_Keras_Tensorflow.ipynb)"
      ]
    },
    {
      "metadata": {
        "id": "yRx7KqjNpUNt",
        "colab_type": "code",
        "colab": {
          "base_uri": "https://localhost:8080/",
          "height": 34
        },
        "outputId": "750ed8c5-12fb-446a-c2ff-ecc154bc0636"
      },
      "cell_type": "code",
      "source": [
        "import tensorflow as tf\n",
        "from tensorflow import keras\n",
        "\n",
        "import numpy as np\n",
        "import matplotlib.pyplot as plt\n",
        "\n",
        "# print(tf.__version__) = 1.10.1\n",
        "\n",
        "\n",
        "\n"
      ],
      "execution_count": 2,
      "outputs": [
        {
          "output_type": "stream",
          "text": [
            "1.10.1\n"
          ],
          "name": "stdout"
        }
      ]
    },
    {
      "metadata": {
        "id": "7mO8mHD-qLkV",
        "colab_type": "code",
        "colab": {
          "base_uri": "https://localhost:8080/",
          "height": 153
        },
        "outputId": "ac0fb699-7960-4fd8-9c2b-be532031ca30"
      },
      "cell_type": "code",
      "source": [
        "fashion_mnist = keras.datasets.fashion_mnist\n",
        "\n",
        "(train_images, train_labels), (test_images, test_labels) = fashion_mnist.load_data()"
      ],
      "execution_count": 3,
      "outputs": [
        {
          "output_type": "stream",
          "text": [
            "Downloading data from https://storage.googleapis.com/tensorflow/tf-keras-datasets/train-labels-idx1-ubyte.gz\n",
            "32768/29515 [=================================] - 0s 0us/step\n",
            "Downloading data from https://storage.googleapis.com/tensorflow/tf-keras-datasets/train-images-idx3-ubyte.gz\n",
            "26427392/26421880 [==============================] - 0s 0us/step\n",
            "Downloading data from https://storage.googleapis.com/tensorflow/tf-keras-datasets/t10k-labels-idx1-ubyte.gz\n",
            "8192/5148 [===============================================] - 0s 0us/step\n",
            "Downloading data from https://storage.googleapis.com/tensorflow/tf-keras-datasets/t10k-images-idx3-ubyte.gz\n",
            "4423680/4422102 [==============================] - 0s 0us/step\n"
          ],
          "name": "stdout"
        }
      ]
    },
    {
      "metadata": {
        "id": "6E4miM7QsyCY",
        "colab_type": "code",
        "colab": {}
      },
      "cell_type": "code",
      "source": [
        "class_names = ['T-Shirt/top', 'Trouser', 'Pullover', 'Dress', 'Coat', 'Sandal', 'Shirt', 'Sneaker', 'Bag', 'Ankle Boot']"
      ],
      "execution_count": 0,
      "outputs": []
    },
    {
      "metadata": {
        "id": "2_v8dkxWrHFr",
        "colab_type": "text"
      },
      "cell_type": "markdown",
      "source": [
        "Load data from Keras.\n",
        "\n",
        "Data is 4 NumPy arrays\n",
        "train_images\n",
        "train_labels\n",
        "test_images\n",
        "test_labels\n",
        "\n",
        "images = 28x28px with pixels ranging 0-255\n",
        "labels = integers ranging 0-9\n",
        "\n",
        "labels 0-9 map to class of clothing represented\n",
        "\n",
        "0 - T-shirt\n",
        "1 - Trouser\n",
        "2 - Pullover\n",
        "3 - Dress\n",
        "4 - Coat\n",
        "5 - Sandal\n",
        "6 - Shirt\n",
        "7 - Sneaker\n",
        "8 - Bag\n",
        "9 - Ankle Boot\n"
      ]
    },
    {
      "metadata": {
        "id": "v6gApNhusfeL",
        "colab_type": "text"
      },
      "cell_type": "markdown",
      "source": [
        "Let's Explore The Data"
      ]
    },
    {
      "metadata": {
        "id": "ExpJ2sW2siJN",
        "colab_type": "code",
        "colab": {
          "base_uri": "https://localhost:8080/",
          "height": 34
        },
        "outputId": "3c651974-4ed5-4606-891f-5288d172bb11"
      },
      "cell_type": "code",
      "source": [
        "train_images.shape"
      ],
      "execution_count": 9,
      "outputs": [
        {
          "output_type": "execute_result",
          "data": {
            "text/plain": [
              "(60000, 28, 28)"
            ]
          },
          "metadata": {
            "tags": []
          },
          "execution_count": 9
        }
      ]
    },
    {
      "metadata": {
        "id": "CZmx7XiTtaEG",
        "colab_type": "text"
      },
      "cell_type": "markdown",
      "source": [
        "There are 60,000 labels in the dataset"
      ]
    },
    {
      "metadata": {
        "id": "Kgcx5W0hsKZu",
        "colab_type": "code",
        "colab": {}
      },
      "cell_type": "code",
      "source": [
        ""
      ],
      "execution_count": 0,
      "outputs": []
    },
    {
      "metadata": {
        "id": "ZxRHPihpte1C",
        "colab_type": "code",
        "colab": {
          "base_uri": "https://localhost:8080/",
          "height": 34
        },
        "outputId": "06d3e51c-775b-4fe5-955b-d283c55e9f51"
      },
      "cell_type": "code",
      "source": [
        "len(train_labels) "
      ],
      "execution_count": 10,
      "outputs": [
        {
          "output_type": "execute_result",
          "data": {
            "text/plain": [
              "60000"
            ]
          },
          "metadata": {
            "tags": []
          },
          "execution_count": 10
        }
      ]
    },
    {
      "metadata": {
        "id": "nEvl-qFWtmq6",
        "colab_type": "code",
        "colab": {
          "base_uri": "https://localhost:8080/",
          "height": 34
        },
        "outputId": "59bb7b46-21ea-4233-fc06-edbb5c6612d9"
      },
      "cell_type": "code",
      "source": [
        "train_labels\n"
      ],
      "execution_count": 11,
      "outputs": [
        {
          "output_type": "execute_result",
          "data": {
            "text/plain": [
              "array([9, 0, 0, ..., 3, 0, 5], dtype=uint8)"
            ]
          },
          "metadata": {
            "tags": []
          },
          "execution_count": 11
        }
      ]
    },
    {
      "metadata": {
        "id": "OxFXQagguGAE",
        "colab_type": "code",
        "colab": {
          "base_uri": "https://localhost:8080/",
          "height": 34
        },
        "outputId": "74ea6d9e-033a-4634-e3f3-223493d13af8"
      },
      "cell_type": "code",
      "source": [
        "test_images.shape\n"
      ],
      "execution_count": 12,
      "outputs": [
        {
          "output_type": "execute_result",
          "data": {
            "text/plain": [
              "(10000, 28, 28)"
            ]
          },
          "metadata": {
            "tags": []
          },
          "execution_count": 12
        }
      ]
    },
    {
      "metadata": {
        "id": "xmTNLw6MuJ6L",
        "colab_type": "code",
        "colab": {
          "base_uri": "https://localhost:8080/",
          "height": 34
        },
        "outputId": "e0e398ef-a63d-4021-deb4-590527eb9ae0"
      },
      "cell_type": "code",
      "source": [
        "len(test_images)"
      ],
      "execution_count": 13,
      "outputs": [
        {
          "output_type": "execute_result",
          "data": {
            "text/plain": [
              "10000"
            ]
          },
          "metadata": {
            "tags": []
          },
          "execution_count": 13
        }
      ]
    },
    {
      "metadata": {
        "id": "7x0oLEFiuUsT",
        "colab_type": "code",
        "colab": {
          "base_uri": "https://localhost:8080/",
          "height": 850
        },
        "outputId": "273f336e-a9c3-45f8-bca3-c664973e0e82"
      },
      "cell_type": "code",
      "source": [
        "test_images\n"
      ],
      "execution_count": 14,
      "outputs": [
        {
          "output_type": "execute_result",
          "data": {
            "text/plain": [
              "array([[[0, 0, 0, ..., 0, 0, 0],\n",
              "        [0, 0, 0, ..., 0, 0, 0],\n",
              "        [0, 0, 0, ..., 0, 0, 0],\n",
              "        ...,\n",
              "        [0, 0, 0, ..., 0, 0, 0],\n",
              "        [0, 0, 0, ..., 0, 0, 0],\n",
              "        [0, 0, 0, ..., 0, 0, 0]],\n",
              "\n",
              "       [[0, 0, 0, ..., 0, 0, 0],\n",
              "        [0, 0, 0, ..., 0, 0, 0],\n",
              "        [0, 0, 0, ..., 0, 0, 0],\n",
              "        ...,\n",
              "        [0, 0, 0, ..., 0, 0, 0],\n",
              "        [0, 0, 0, ..., 0, 0, 0],\n",
              "        [0, 0, 0, ..., 0, 0, 0]],\n",
              "\n",
              "       [[0, 0, 0, ..., 0, 0, 0],\n",
              "        [0, 0, 0, ..., 0, 0, 0],\n",
              "        [0, 0, 0, ..., 0, 0, 0],\n",
              "        ...,\n",
              "        [0, 0, 0, ..., 0, 0, 0],\n",
              "        [0, 0, 0, ..., 0, 0, 0],\n",
              "        [0, 0, 0, ..., 0, 0, 0]],\n",
              "\n",
              "       ...,\n",
              "\n",
              "       [[0, 0, 0, ..., 0, 0, 0],\n",
              "        [0, 0, 0, ..., 0, 0, 0],\n",
              "        [0, 0, 0, ..., 0, 0, 0],\n",
              "        ...,\n",
              "        [0, 0, 0, ..., 0, 0, 0],\n",
              "        [0, 0, 0, ..., 0, 0, 0],\n",
              "        [0, 0, 0, ..., 0, 0, 0]],\n",
              "\n",
              "       [[0, 0, 0, ..., 0, 0, 0],\n",
              "        [0, 0, 0, ..., 0, 0, 0],\n",
              "        [0, 0, 0, ..., 0, 0, 0],\n",
              "        ...,\n",
              "        [0, 0, 0, ..., 0, 0, 0],\n",
              "        [0, 0, 0, ..., 0, 0, 0],\n",
              "        [0, 0, 0, ..., 0, 0, 0]],\n",
              "\n",
              "       [[0, 0, 0, ..., 0, 0, 0],\n",
              "        [0, 0, 0, ..., 0, 0, 0],\n",
              "        [0, 0, 0, ..., 0, 0, 0],\n",
              "        ...,\n",
              "        [0, 0, 0, ..., 0, 0, 0],\n",
              "        [0, 0, 0, ..., 0, 0, 0],\n",
              "        [0, 0, 0, ..., 0, 0, 0]]], dtype=uint8)"
            ]
          },
          "metadata": {
            "tags": []
          },
          "execution_count": 14
        }
      ]
    },
    {
      "metadata": {
        "id": "AK9QmAhsubgI",
        "colab_type": "code",
        "colab": {
          "base_uri": "https://localhost:8080/",
          "height": 34
        },
        "outputId": "98bfaaa9-3cd5-4591-807f-a6c3613f3a33"
      },
      "cell_type": "code",
      "source": [
        "train_labels"
      ],
      "execution_count": 15,
      "outputs": [
        {
          "output_type": "execute_result",
          "data": {
            "text/plain": [
              "array([9, 0, 0, ..., 3, 0, 5], dtype=uint8)"
            ]
          },
          "metadata": {
            "tags": []
          },
          "execution_count": 15
        }
      ]
    },
    {
      "metadata": {
        "id": "DwEs8xjwumav",
        "colab_type": "code",
        "colab": {
          "base_uri": "https://localhost:8080/",
          "height": 347
        },
        "outputId": "2f2cc245-1d8f-476c-b234-485f05a01a17"
      },
      "cell_type": "code",
      "source": [
        "plt.figure()\n",
        "plt.imshow(train_images[0])\n",
        "plt.colorbar()\n",
        "plt.gca().grid(False)"
      ],
      "execution_count": 16,
      "outputs": [
        {
          "output_type": "display_data",
          "data": {
            "image/png": "[encoded data removed]",
            "text/plain": [
              "<matplotlib.figure.Figure at 0x7fc3d1093a58>"
            ]
          },
          "metadata": {
            "tags": []
          }
        }
      ]
    },
    {
      "metadata": {
        "id": "aI-wVnVDu9MO",
        "colab_type": "code",
        "colab": {}
      },
      "cell_type": "code",
      "source": [
        "0-255 is difficult to work with. N"
      ],
      "execution_count": 0,
      "outputs": []
    },
    {
      "metadata": {
        "id": "AmD8TY5xvIjl",
        "colab_type": "text"
      },
      "cell_type": "markdown",
      "source": [
        "0-255 (int) is difficult to work with. Lets normalise to within 0 and 1(fl)"
      ]
    },
    {
      "metadata": {
        "id": "cZq1mXn-vQLB",
        "colab_type": "code",
        "colab": {}
      },
      "cell_type": "code",
      "source": [
        "train_images = train_images/255\n",
        "test_images = test_images/255"
      ],
      "execution_count": 0,
      "outputs": []
    },
    {
      "metadata": {
        "id": "mOci5alQvdLV",
        "colab_type": "text"
      },
      "cell_type": "markdown",
      "source": [
        "Verify that data is still good. Print 1-25 images"
      ]
    },
    {
      "metadata": {
        "id": "WMVBMng4vjYw",
        "colab_type": "code",
        "colab": {
          "base_uri": "https://localhost:8080/",
          "height": 317
        },
        "outputId": "65066a19-e021-476f-bb76-b981ef36ddb9"
      },
      "cell_type": "code",
      "source": [
        "import  matplotlib.pyplot as plt\n",
        "%matplotlib inline\n",
        "\n",
        "plt.figure(figsize=(10,10))\n",
        "for i in range(25):\n",
        "  plt.subplot(5,5,i+1) \n",
        "  plt.xticks([])\n",
        "  plt.yticks([])\n",
        "  plt.grid('off')\n",
        "  plt.imshow(train_images[i], cmap=plt.cm.binary)\n",
        "  plt.xlabel(class_names[train_labels[i]])\n",
        "  \n",
        "  \n",
        "  "
      ],
      "execution_count": 22,
      "outputs": [
        {
          "output_type": "display_data",
          "data": {
            "image/png": "[encoded data removed]",
            "text/plain": [
              "<matplotlib.figure.Figure at 0x7fc3cde0d320>"
            ]
          },
          "metadata": {
            "tags": []
          }
        }
      ]
    },
    {
      "metadata": {
        "id": "YT8V1H8hxwYY",
        "colab_type": "code",
        "colab": {}
      },
      "cell_type": "code",
      "source": [
        "Train the model"
      ],
      "execution_count": 0,
      "outputs": []
    },
    {
      "metadata": {
        "id": "CRj0DZPdzk5W",
        "colab_type": "code",
        "colab": {}
      },
      "cell_type": "code",
      "source": [
        "model = keras.Sequential([\n",
        "    keras.layers.Flatten(input_shape=[28, 28]),\n",
        "    keras.layers.Dense(128, activation=tf.nn.relu),\n",
        "    keras.layers.Dense(10, activation=tf.nn.softmax)\n",
        "])"
      ],
      "execution_count": 0,
      "outputs": []
    },
    {
      "metadata": {
        "id": "j019ye9n0aa7",
        "colab_type": "text"
      },
      "cell_type": "markdown",
      "source": [
        "Flatten = Takes the (2D) 28x28 and makes a (1D) 1x784\n",
        "\n",
        "Dense = \n"
      ]
    },
    {
      "metadata": {
        "id": "-AWOoABZ5Bz4",
        "colab_type": "code",
        "colab": {}
      },
      "cell_type": "code",
      "source": [
        "model.compile(optimizer=tf.train.AdamOptimizer(),\n",
        "              loss='sparse_categorical_crossentropy',\n",
        "              metrics=['accuracy'])"
      ],
      "execution_count": 0,
      "outputs": []
    },
    {
      "metadata": {
        "id": "QptqocdD4yaM",
        "colab_type": "code",
        "colab": {
          "base_uri": "https://localhost:8080/",
          "height": 374
        },
        "outputId": "1b91956f-5baf-4ad2-ce8e-aa0eee19ed41"
      },
      "cell_type": "code",
      "source": [
        "model.fit(train_images, train_labels, epochs=10)"
      ],
      "execution_count": 31,
      "outputs": [
        {
          "output_type": "stream",
          "text": [
            "Epoch 1/10\n",
            "60000/60000 [==============================] - 6s 96us/step - loss: 0.4991 - acc: 0.8252\n",
            "Epoch 2/10\n",
            "60000/60000 [==============================] - 5s 78us/step - loss: 0.3769 - acc: 0.8620\n",
            "Epoch 3/10\n",
            "60000/60000 [==============================] - 5s 76us/step - loss: 0.3370 - acc: 0.8783\n",
            "Epoch 4/10\n",
            "60000/60000 [==============================] - 5s 76us/step - loss: 0.3147 - acc: 0.8847\n",
            "Epoch 5/10\n",
            "60000/60000 [==============================] - 5s 76us/step - loss: 0.2967 - acc: 0.8915\n",
            "Epoch 6/10\n",
            "60000/60000 [==============================] - 5s 79us/step - loss: 0.2808 - acc: 0.8969\n",
            "Epoch 7/10\n",
            "60000/60000 [==============================] - 5s 79us/step - loss: 0.2721 - acc: 0.8992\n",
            "Epoch 8/10\n",
            "60000/60000 [==============================] - 5s 79us/step - loss: 0.2581 - acc: 0.9045\n",
            "Epoch 9/10\n",
            "60000/60000 [==============================] - 5s 81us/step - loss: 0.2483 - acc: 0.9069\n",
            "Epoch 10/10\n",
            "60000/60000 [==============================] - 5s 80us/step - loss: 0.2412 - acc: 0.9103\n"
          ],
          "name": "stdout"
        },
        {
          "output_type": "execute_result",
          "data": {
            "text/plain": [
              "<tensorflow.python.keras.callbacks.History at 0x7fc3cdf5e9e8>"
            ]
          },
          "metadata": {
            "tags": []
          },
          "execution_count": 31
        }
      ]
    },
    {
      "metadata": {
        "id": "cmv6lkYo5zDA",
        "colab_type": "code",
        "colab": {
          "base_uri": "https://localhost:8080/",
          "height": 51
        },
        "outputId": "1aee5f04-3cf9-40de-ca27-c9fbd31fa481"
      },
      "cell_type": "code",
      "source": [
        "test_loss, test_acc = model.evaluate(test_images, test_labels)\n",
        "print('TestAccuracy: ', test_acc)"
      ],
      "execution_count": 33,
      "outputs": [
        {
          "output_type": "stream",
          "text": [
            "10000/10000 [==============================] - 0s 35us/step\n",
            "TestAccuracy:  0.8826\n"
          ],
          "name": "stdout"
        }
      ]
    },
    {
      "metadata": {
        "id": "cFw8nf4x6TkR",
        "colab_type": "text"
      },
      "cell_type": "markdown",
      "source": [
        "Make predictions!\n"
      ]
    },
    {
      "metadata": {
        "id": "h1YrX0Ii6WXW",
        "colab_type": "code",
        "colab": {}
      },
      "cell_type": "code",
      "source": [
        "predictions = model.predict(test_images)"
      ],
      "execution_count": 0,
      "outputs": []
    },
    {
      "metadata": {
        "id": "LCS-_8PY6iri",
        "colab_type": "code",
        "colab": {
          "base_uri": "https://localhost:8080/",
          "height": 68
        },
        "outputId": "a7e3cf22-f050-49bc-ce7d-ccc9af14c361"
      },
      "cell_type": "code",
      "source": [
        "predictions[0]"
      ],
      "execution_count": 36,
      "outputs": [
        {
          "output_type": "execute_result",
          "data": {
            "text/plain": [
              "array([6.0899055e-07, 9.2946117e-10, 1.1361360e-08, 3.9451084e-10,\n",
              "       1.2502606e-07, 4.6919463e-03, 1.3012356e-06, 8.4937386e-02,\n",
              "       1.3873977e-06, 9.1036725e-01], dtype=float32)"
            ]
          },
          "metadata": {
            "tags": []
          },
          "execution_count": 36
        }
      ]
    },
    {
      "metadata": {
        "id": "Np8zTYiz636w",
        "colab_type": "text"
      },
      "cell_type": "markdown",
      "source": [
        "Prediction returns a 0-9 array of probabilities, with each position correlating to the clothing index. "
      ]
    },
    {
      "metadata": {
        "id": "nW1ZOSTC7LaF",
        "colab_type": "code",
        "colab": {
          "base_uri": "https://localhost:8080/",
          "height": 34
        },
        "outputId": "b5716747-798b-4312-ff6c-f4fbc7ce5e9f"
      },
      "cell_type": "code",
      "source": [
        "np.argmax(predictions[0])"
      ],
      "execution_count": 37,
      "outputs": [
        {
          "output_type": "execute_result",
          "data": {
            "text/plain": [
              "9"
            ]
          },
          "metadata": {
            "tags": []
          },
          "execution_count": 37
        }
      ]
    },
    {
      "metadata": {
        "id": "G550ys8D7b-v",
        "colab_type": "text"
      },
      "cell_type": "markdown",
      "source": [
        "Model is most confident that test_image[0] = class_name[9], or 'Ankle boot'\n",
        "\n",
        "Let's test"
      ]
    },
    {
      "metadata": {
        "id": "6Ero3qph7rRp",
        "colab_type": "code",
        "colab": {
          "base_uri": "https://localhost:8080/",
          "height": 34
        },
        "outputId": "c8fb2ff8-b3f9-4b42-ea9e-893850ca8a24"
      },
      "cell_type": "code",
      "source": [
        "test_labels[0]"
      ],
      "execution_count": 38,
      "outputs": [
        {
          "output_type": "execute_result",
          "data": {
            "text/plain": [
              "9"
            ]
          },
          "metadata": {
            "tags": []
          },
          "execution_count": 38
        }
      ]
    },
    {
      "metadata": {
        "id": "IgDmY-ES-Ahy",
        "colab_type": "code",
        "colab": {
          "base_uri": "https://localhost:8080/",
          "height": 589
        },
        "outputId": "8d1afaa2-9c9f-49e8-a437-68d0f97d1ef0"
      },
      "cell_type": "code",
      "source": [
        "plt.figure(figsize=[10,10])\n",
        "for i in range(25):\n",
        "  plt.subplot(5,5,i+1)\n",
        "  plt.xticks([])\n",
        "  plt.yticks([])\n",
        "  plt.grid('off')\n",
        "  plt.imshow(test_images[i], cmap=plt.cm.binary)\n",
        "  predicted_label = np.argmax(predictions[i])\n",
        "  true_label = test_labels[i]\n",
        "  if predicted_label == true_label:\n",
        "    color = 'green'\n",
        "  else:\n",
        "    color = 'red'\n",
        "  plt.xlabel(\"{} ({})\".format(class_names[predicted_label],\n",
        "                              class_names[true_label]),\n",
        "                              color=color)"
      ],
      "execution_count": 43,
      "outputs": [
        {
          "output_type": "display_data",
          "data": {
            "image/png": "[encoded data removed]",
            "text/plain": [
              "<matplotlib.figure.Figure at 0x7fc3ca7165c0>"
            ]
          },
          "metadata": {
            "tags": []
          }
        }
      ]
    },
    {
      "metadata": {
        "id": "uaSDAsHdHtGH",
        "colab_type": "code",
        "colab": {
          "base_uri": "https://localhost:8080/",
          "height": 34
        },
        "outputId": "74c64c82-128e-488f-b668-3295acce1299"
      },
      "cell_type": "code",
      "source": [
        "img = test_images[0]\n",
        "print(img.shape)\n"
      ],
      "execution_count": 44,
      "outputs": [
        {
          "output_type": "stream",
          "text": [
            "(28, 28)\n"
          ],
          "name": "stdout"
        }
      ]
    },
    {
      "metadata": {
        "id": "HCpEpeAQH9yJ",
        "colab_type": "text"
      },
      "cell_type": "markdown",
      "source": [
        "Keras models are otimised to make batch predictions, rather than single, so we need to expand the 28x28"
      ]
    },
    {
      "metadata": {
        "id": "3eSfKZ1CIJoh",
        "colab_type": "code",
        "colab": {
          "base_uri": "https://localhost:8080/",
          "height": 34
        },
        "outputId": "c3eb20d3-2bf0-4f5a-ae96-e53aef2cd5bd"
      },
      "cell_type": "code",
      "source": [
        "img = (np.expand_dims(img,0))\n",
        "print(img.shape)"
      ],
      "execution_count": 45,
      "outputs": [
        {
          "output_type": "stream",
          "text": [
            "(1, 28, 28)\n"
          ],
          "name": "stdout"
        }
      ]
    },
    {
      "metadata": {
        "id": "35yDidO4IS45",
        "colab_type": "code",
        "colab": {
          "base_uri": "https://localhost:8080/",
          "height": 51
        },
        "outputId": "7e5bb9c9-d48e-4d00-880f-4e10fe9d4c4a"
      },
      "cell_type": "code",
      "source": [
        "predictions = model.predict(img)\n",
        "print(predictions)"
      ],
      "execution_count": 46,
      "outputs": [
        {
          "output_type": "stream",
          "text": [
            "[[6.0899055e-07 9.2946117e-10 1.1361274e-08 3.9450784e-10 1.2502606e-07\n",
            "  4.6919375e-03 1.3012368e-06 8.4937334e-02 1.3874002e-06 9.1036725e-01]]\n"
          ],
          "name": "stdout"
        }
      ]
    },
    {
      "metadata": {
        "id": "DxJibVvaIboJ",
        "colab_type": "code",
        "colab": {
          "base_uri": "https://localhost:8080/",
          "height": 34
        },
        "outputId": "acd04a9c-6bf3-4f41-d463-27590f695eae"
      },
      "cell_type": "code",
      "source": [
        "prediction = predictions[0]\n",
        "np.argmax(prediction)"
      ],
      "execution_count": 47,
      "outputs": [
        {
          "output_type": "execute_result",
          "data": {
            "text/plain": [
              "9"
            ]
          },
          "metadata": {
            "tags": []
          },
          "execution_count": 47
        }
      ]
    }
  ]
}